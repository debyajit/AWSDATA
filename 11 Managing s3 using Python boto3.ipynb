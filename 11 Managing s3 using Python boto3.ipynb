{
 "cells": [
  {
   "cell_type": "code",
   "execution_count": 3,
   "metadata": {},
   "outputs": [],
   "source": [
    "import sys\n",
    "import os\n",
    "sys.path.append(\"C:\\\\Users\\\\Debjit\\\\AppData\\\\Local\\\\Packages\\\\PythonSoftwareFoundation.Python.3.9_qbz5n2kfra8p0\\\\LocalCache\\\\local-packages\\\\Python39\\\\site-packages\")\n",
    "import boto3"
   ]
  },
  {
   "cell_type": "code",
   "execution_count": 4,
   "metadata": {},
   "outputs": [
    {
     "data": {
      "text/plain": [
       "'ghactivity'"
      ]
     },
     "execution_count": 4,
     "metadata": {},
     "output_type": "execute_result"
    }
   ],
   "source": [
    "os.environ.get('AWS_PROFILE')\n",
    "os.environ.setdefault('AWS_PROFILE', 'ghactivity')"
   ]
  },
  {
   "cell_type": "code",
   "execution_count": 10,
   "metadata": {},
   "outputs": [
    {
     "name": "stdout",
     "output_type": "stream",
     "text": [
      "dataeng-clean-zone-deb\n",
      "dataeng-landing-zone-deb\n",
      "s3-deb-test\n"
     ]
    }
   ],
   "source": [
    "s3_client = boto3.client('s3')\n",
    "for bucket in s3_client.list_buckets()['Buckets']:\n",
    "    print(bucket['Name'])"
   ]
  },
  {
   "cell_type": "code",
   "execution_count": 6,
   "metadata": {},
   "outputs": [
    {
     "data": {
      "text/plain": [
       "3"
      ]
     },
     "execution_count": 6,
     "metadata": {},
     "output_type": "execute_result"
    }
   ],
   "source": [
    "buckets = s3_client.list_buckets()['Buckets']\n",
    "len(buckets)"
   ]
  },
  {
   "cell_type": "markdown",
   "metadata": {},
   "source": [
    "Create bucket with a specific prefix    "
   ]
  },
  {
   "cell_type": "code",
   "execution_count": 12,
   "metadata": {},
   "outputs": [],
   "source": [
    "bucket_prefix = input('Enter 2 character unique prefix for your bucket: ')"
   ]
  },
  {
   "cell_type": "code",
   "execution_count": 13,
   "metadata": {},
   "outputs": [
    {
     "data": {
      "text/plain": [
       "'dgdeb'"
      ]
     },
     "execution_count": 13,
     "metadata": {},
     "output_type": "execute_result"
    }
   ],
   "source": [
    "bucket_prefix"
   ]
  },
  {
   "cell_type": "code",
   "execution_count": 14,
   "metadata": {},
   "outputs": [
    {
     "data": {
      "text/plain": [
       "{'ResponseMetadata': {'RequestId': 'BAKHGM5RHN0DTB4G',\n",
       "  'HostId': 'dWw4ZkoCCZYZC7rWoUNFVmxGGBMa+0stMZGNSSkQMmtLmGwQlxz+WIciKANFheXDRGchI3N4vyY=',\n",
       "  'HTTPStatusCode': 200,\n",
       "  'HTTPHeaders': {'x-amz-id-2': 'dWw4ZkoCCZYZC7rWoUNFVmxGGBMa+0stMZGNSSkQMmtLmGwQlxz+WIciKANFheXDRGchI3N4vyY=',\n",
       "   'x-amz-request-id': 'BAKHGM5RHN0DTB4G',\n",
       "   'date': 'Wed, 02 Aug 2023 16:35:13 GMT',\n",
       "   'location': '/dgdebghactivity',\n",
       "   'server': 'AmazonS3',\n",
       "   'content-length': '0'},\n",
       "  'RetryAttempts': 0},\n",
       " 'Location': '/dgdebghactivity'}"
      ]
     },
     "execution_count": 14,
     "metadata": {},
     "output_type": "execute_result"
    }
   ],
   "source": [
    "# create bucket with uniq prefix\n",
    "s3_client.create_bucket(Bucket=f'{bucket_prefix}ghactivity')"
   ]
  },
  {
   "cell_type": "code",
   "execution_count": 15,
   "metadata": {},
   "outputs": [
    {
     "name": "stdout",
     "output_type": "stream",
     "text": [
      "dataeng-clean-zone-deb\n",
      "dataeng-landing-zone-deb\n",
      "dgdebghactivity\n",
      "s3-deb-test\n"
     ]
    }
   ],
   "source": [
    "for bucket in s3_client.list_buckets()['Buckets']:\n",
    "    print(bucket['Name'])"
   ]
  }
 ],
 "metadata": {
  "kernelspec": {
   "display_name": "mypython39",
   "language": "python",
   "name": "python3"
  },
  "language_info": {
   "codemirror_mode": {
    "name": "ipython",
    "version": 3
   },
   "file_extension": ".py",
   "mimetype": "text/x-python",
   "name": "python",
   "nbconvert_exporter": "python",
   "pygments_lexer": "ipython3",
   "version": "3.9.13"
  },
  "orig_nbformat": 4
 },
 "nbformat": 4,
 "nbformat_minor": 2
}
